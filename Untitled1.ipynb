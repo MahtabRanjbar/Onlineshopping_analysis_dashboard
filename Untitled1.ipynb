{
 "cells": [
  {
   "cell_type": "code",
   "execution_count": 1,
   "id": "76fdf7e1",
   "metadata": {
    "id": "11ba4690"
   },
   "outputs": [],
   "source": [
    "# Data Analysis and visualization tools\n",
    "import numpy as np\n",
    "import matplotlib.pyplot as plt\n",
    "%matplotlib inline\n",
    "import pandas as pd\n",
    "import seaborn as sns\n",
    "import plotly as py\n",
    "import plotly.graph_objs as go\n",
    "from sklearn.cluster import KMeans\n",
    "\n",
    "#statistics tools\n",
    "import statsmodels.api as sm\n",
    "from scipy import stats \n",
    "from scipy.stats import shapiro, mannwhitneyu, chi2_contingency\n",
    "\n",
    "\n",
    "#scikit learn framework\n",
    "from sklearn import metrics\n",
    "from sklearn.model_selection import train_test_split\n",
    "from sklearn import svm\n",
    "from sklearn.naive_bayes import GaussianNB\n",
    "\n",
    "from sklearn.model_selection import train_test_split\n",
    "from sklearn.preprocessing import StandardScaler\n",
    "from sklearn import metrics\n",
    "from sklearn.model_selection import GridSearchCV\n",
    "from sklearn.model_selection import RandomizedSearchCV\n",
    "from sklearn.model_selection import cross_val_score, cross_val_predict\n",
    "from sklearn.metrics import confusion_matrix\n",
    "from sklearn.metrics import roc_curve, auc\n",
    "from sklearn.metrics import classification_report\n",
    "from sklearn.metrics import precision_score, recall_score, accuracy_score\n",
    "\n",
    "from sklearn.naive_bayes import GaussianNB\n",
    "from sklearn.neighbors import KNeighborsClassifier\n",
    "from sklearn.svm import SVC\n",
    "from sklearn.linear_model import LogisticRegression\n",
    "from sklearn.ensemble import RandomForestClassifier\n",
    "from sklearn.ensemble import GradientBoostingClassifier\n",
    "from sklearn.ensemble import AdaBoostClassifier\n",
    "from sklearn.tree import DecisionTreeClassifier\n",
    "\n",
    "import xgboost as xgb\n",
    "\n",
    "import warnings\n",
    "warnings.filterwarnings('ignore')\n",
    "%matplotlib inline\n"
   ]
  },
  {
   "cell_type": "code",
   "execution_count": 2,
   "id": "452b55c4",
   "metadata": {
    "colab": {
     "base_uri": "https://localhost:8080/"
    },
    "id": "--cOjQgxU2BS",
    "outputId": "87d166e8-df72-498e-fceb-8bdb9a1ac36b"
   },
   "outputs": [
    {
     "name": "stdout",
     "output_type": "stream",
     "text": [
      "Mounted at /content/drive\n"
     ]
    }
   ],
   "source": [
    "from google.colab import drive\n",
    "drive.mount('/content/drive')"
   ]
  },
  {
   "cell_type": "code",
   "execution_count": null,
   "id": "7fb657f7",
   "metadata": {
    "id": "3c7ba61b",
    "outputId": "d3480114-07ee-4446-e466-a0997ca8e705"
   },
   "outputs": [
    {
     "name": "stdout",
     "output_type": "stream",
     "text": [
      "Requirement already satisfied: xgboost in /home/mahtab/anaconda3/lib/python3.8/site-packages (1.7.3)\n",
      "Requirement already satisfied: numpy in /home/mahtab/anaconda3/lib/python3.8/site-packages (from xgboost) (1.22.3)\n",
      "Requirement already satisfied: scipy in /home/mahtab/anaconda3/lib/python3.8/site-packages (from xgboost) (1.4.1)\n"
     ]
    }
   ],
   "source": [
    "!pip install xgboost"
   ]
  },
  {
   "cell_type": "code",
   "execution_count": 4,
   "id": "4d733427",
   "metadata": {
    "colab": {
     "base_uri": "https://localhost:8080/",
     "height": 270
    },
    "id": "e2cdc6b9",
    "outputId": "9c2f51fa-b623-4137-df9c-e3e7e5bf78cd"
   },
   "outputs": [
    {
     "data": {
      "text/html": [
       "\n",
       "  <div id=\"df-82841bc4-a9a8-470f-ad0b-ae14f009294d\">\n",
       "    <div class=\"colab-df-container\">\n",
       "      <div>\n",
       "<style scoped>\n",
       "    .dataframe tbody tr th:only-of-type {\n",
       "        vertical-align: middle;\n",
       "    }\n",
       "\n",
       "    .dataframe tbody tr th {\n",
       "        vertical-align: top;\n",
       "    }\n",
       "\n",
       "    .dataframe thead th {\n",
       "        text-align: right;\n",
       "    }\n",
       "</style>\n",
       "<table border=\"1\" class=\"dataframe\">\n",
       "  <thead>\n",
       "    <tr style=\"text-align: right;\">\n",
       "      <th></th>\n",
       "      <th>Administrative</th>\n",
       "      <th>Administrative_Duration</th>\n",
       "      <th>Informational</th>\n",
       "      <th>Informational_Duration</th>\n",
       "      <th>ProductRelated</th>\n",
       "      <th>ProductRelated_Duration</th>\n",
       "      <th>BounceRates</th>\n",
       "      <th>ExitRates</th>\n",
       "      <th>PageValues</th>\n",
       "      <th>SpecialDay</th>\n",
       "      <th>Month</th>\n",
       "      <th>OperatingSystems</th>\n",
       "      <th>Browser</th>\n",
       "      <th>Region</th>\n",
       "      <th>TrafficType</th>\n",
       "      <th>VisitorType</th>\n",
       "      <th>Weekend</th>\n",
       "      <th>Revenue</th>\n",
       "    </tr>\n",
       "  </thead>\n",
       "  <tbody>\n",
       "    <tr>\n",
       "      <th>0</th>\n",
       "      <td>0</td>\n",
       "      <td>0.0</td>\n",
       "      <td>0</td>\n",
       "      <td>0.0</td>\n",
       "      <td>1</td>\n",
       "      <td>0.000000</td>\n",
       "      <td>0.20</td>\n",
       "      <td>0.20</td>\n",
       "      <td>0.0</td>\n",
       "      <td>0.0</td>\n",
       "      <td>Feb</td>\n",
       "      <td>1</td>\n",
       "      <td>1</td>\n",
       "      <td>1</td>\n",
       "      <td>1</td>\n",
       "      <td>Returning_Visitor</td>\n",
       "      <td>False</td>\n",
       "      <td>False</td>\n",
       "    </tr>\n",
       "    <tr>\n",
       "      <th>1</th>\n",
       "      <td>0</td>\n",
       "      <td>0.0</td>\n",
       "      <td>0</td>\n",
       "      <td>0.0</td>\n",
       "      <td>2</td>\n",
       "      <td>64.000000</td>\n",
       "      <td>0.00</td>\n",
       "      <td>0.10</td>\n",
       "      <td>0.0</td>\n",
       "      <td>0.0</td>\n",
       "      <td>Feb</td>\n",
       "      <td>2</td>\n",
       "      <td>2</td>\n",
       "      <td>1</td>\n",
       "      <td>2</td>\n",
       "      <td>Returning_Visitor</td>\n",
       "      <td>False</td>\n",
       "      <td>False</td>\n",
       "    </tr>\n",
       "    <tr>\n",
       "      <th>2</th>\n",
       "      <td>0</td>\n",
       "      <td>0.0</td>\n",
       "      <td>0</td>\n",
       "      <td>0.0</td>\n",
       "      <td>1</td>\n",
       "      <td>0.000000</td>\n",
       "      <td>0.20</td>\n",
       "      <td>0.20</td>\n",
       "      <td>0.0</td>\n",
       "      <td>0.0</td>\n",
       "      <td>Feb</td>\n",
       "      <td>4</td>\n",
       "      <td>1</td>\n",
       "      <td>9</td>\n",
       "      <td>3</td>\n",
       "      <td>Returning_Visitor</td>\n",
       "      <td>False</td>\n",
       "      <td>False</td>\n",
       "    </tr>\n",
       "    <tr>\n",
       "      <th>3</th>\n",
       "      <td>0</td>\n",
       "      <td>0.0</td>\n",
       "      <td>0</td>\n",
       "      <td>0.0</td>\n",
       "      <td>2</td>\n",
       "      <td>2.666667</td>\n",
       "      <td>0.05</td>\n",
       "      <td>0.14</td>\n",
       "      <td>0.0</td>\n",
       "      <td>0.0</td>\n",
       "      <td>Feb</td>\n",
       "      <td>3</td>\n",
       "      <td>2</td>\n",
       "      <td>2</td>\n",
       "      <td>4</td>\n",
       "      <td>Returning_Visitor</td>\n",
       "      <td>False</td>\n",
       "      <td>False</td>\n",
       "    </tr>\n",
       "    <tr>\n",
       "      <th>4</th>\n",
       "      <td>0</td>\n",
       "      <td>0.0</td>\n",
       "      <td>0</td>\n",
       "      <td>0.0</td>\n",
       "      <td>10</td>\n",
       "      <td>627.500000</td>\n",
       "      <td>0.02</td>\n",
       "      <td>0.05</td>\n",
       "      <td>0.0</td>\n",
       "      <td>0.0</td>\n",
       "      <td>Feb</td>\n",
       "      <td>3</td>\n",
       "      <td>3</td>\n",
       "      <td>1</td>\n",
       "      <td>4</td>\n",
       "      <td>Returning_Visitor</td>\n",
       "      <td>True</td>\n",
       "      <td>False</td>\n",
       "    </tr>\n",
       "  </tbody>\n",
       "</table>\n",
       "</div>\n",
       "      <button class=\"colab-df-convert\" onclick=\"convertToInteractive('df-82841bc4-a9a8-470f-ad0b-ae14f009294d')\"\n",
       "              title=\"Convert this dataframe to an interactive table.\"\n",
       "              style=\"display:none;\">\n",
       "        \n",
       "  <svg xmlns=\"http://www.w3.org/2000/svg\" height=\"24px\"viewBox=\"0 0 24 24\"\n",
       "       width=\"24px\">\n",
       "    <path d=\"M0 0h24v24H0V0z\" fill=\"none\"/>\n",
       "    <path d=\"M18.56 5.44l.94 2.06.94-2.06 2.06-.94-2.06-.94-.94-2.06-.94 2.06-2.06.94zm-11 1L8.5 8.5l.94-2.06 2.06-.94-2.06-.94L8.5 2.5l-.94 2.06-2.06.94zm10 10l.94 2.06.94-2.06 2.06-.94-2.06-.94-.94-2.06-.94 2.06-2.06.94z\"/><path d=\"M17.41 7.96l-1.37-1.37c-.4-.4-.92-.59-1.43-.59-.52 0-1.04.2-1.43.59L10.3 9.45l-7.72 7.72c-.78.78-.78 2.05 0 2.83L4 21.41c.39.39.9.59 1.41.59.51 0 1.02-.2 1.41-.59l7.78-7.78 2.81-2.81c.8-.78.8-2.07 0-2.86zM5.41 20L4 18.59l7.72-7.72 1.47 1.35L5.41 20z\"/>\n",
       "  </svg>\n",
       "      </button>\n",
       "      \n",
       "  <style>\n",
       "    .colab-df-container {\n",
       "      display:flex;\n",
       "      flex-wrap:wrap;\n",
       "      gap: 12px;\n",
       "    }\n",
       "\n",
       "    .colab-df-convert {\n",
       "      background-color: #E8F0FE;\n",
       "      border: none;\n",
       "      border-radius: 50%;\n",
       "      cursor: pointer;\n",
       "      display: none;\n",
       "      fill: #1967D2;\n",
       "      height: 32px;\n",
       "      padding: 0 0 0 0;\n",
       "      width: 32px;\n",
       "    }\n",
       "\n",
       "    .colab-df-convert:hover {\n",
       "      background-color: #E2EBFA;\n",
       "      box-shadow: 0px 1px 2px rgba(60, 64, 67, 0.3), 0px 1px 3px 1px rgba(60, 64, 67, 0.15);\n",
       "      fill: #174EA6;\n",
       "    }\n",
       "\n",
       "    [theme=dark] .colab-df-convert {\n",
       "      background-color: #3B4455;\n",
       "      fill: #D2E3FC;\n",
       "    }\n",
       "\n",
       "    [theme=dark] .colab-df-convert:hover {\n",
       "      background-color: #434B5C;\n",
       "      box-shadow: 0px 1px 3px 1px rgba(0, 0, 0, 0.15);\n",
       "      filter: drop-shadow(0px 1px 2px rgba(0, 0, 0, 0.3));\n",
       "      fill: #FFFFFF;\n",
       "    }\n",
       "  </style>\n",
       "\n",
       "      <script>\n",
       "        const buttonEl =\n",
       "          document.querySelector('#df-82841bc4-a9a8-470f-ad0b-ae14f009294d button.colab-df-convert');\n",
       "        buttonEl.style.display =\n",
       "          google.colab.kernel.accessAllowed ? 'block' : 'none';\n",
       "\n",
       "        async function convertToInteractive(key) {\n",
       "          const element = document.querySelector('#df-82841bc4-a9a8-470f-ad0b-ae14f009294d');\n",
       "          const dataTable =\n",
       "            await google.colab.kernel.invokeFunction('convertToInteractive',\n",
       "                                                     [key], {});\n",
       "          if (!dataTable) return;\n",
       "\n",
       "          const docLinkHtml = 'Like what you see? Visit the ' +\n",
       "            '<a target=\"_blank\" href=https://colab.research.google.com/notebooks/data_table.ipynb>data table notebook</a>'\n",
       "            + ' to learn more about interactive tables.';\n",
       "          element.innerHTML = '';\n",
       "          dataTable['output_type'] = 'display_data';\n",
       "          await google.colab.output.renderOutput(dataTable, element);\n",
       "          const docLink = document.createElement('div');\n",
       "          docLink.innerHTML = docLinkHtml;\n",
       "          element.appendChild(docLink);\n",
       "        }\n",
       "      </script>\n",
       "    </div>\n",
       "  </div>\n",
       "  "
      ],
      "text/plain": [
       "   Administrative  Administrative_Duration  Informational  \\\n",
       "0               0                      0.0              0   \n",
       "1               0                      0.0              0   \n",
       "2               0                      0.0              0   \n",
       "3               0                      0.0              0   \n",
       "4               0                      0.0              0   \n",
       "\n",
       "   Informational_Duration  ProductRelated  ProductRelated_Duration  \\\n",
       "0                     0.0               1                 0.000000   \n",
       "1                     0.0               2                64.000000   \n",
       "2                     0.0               1                 0.000000   \n",
       "3                     0.0               2                 2.666667   \n",
       "4                     0.0              10               627.500000   \n",
       "\n",
       "   BounceRates  ExitRates  PageValues  SpecialDay Month  OperatingSystems  \\\n",
       "0         0.20       0.20         0.0         0.0   Feb                 1   \n",
       "1         0.00       0.10         0.0         0.0   Feb                 2   \n",
       "2         0.20       0.20         0.0         0.0   Feb                 4   \n",
       "3         0.05       0.14         0.0         0.0   Feb                 3   \n",
       "4         0.02       0.05         0.0         0.0   Feb                 3   \n",
       "\n",
       "   Browser  Region  TrafficType        VisitorType  Weekend  Revenue  \n",
       "0        1       1            1  Returning_Visitor    False    False  \n",
       "1        2       1            2  Returning_Visitor    False    False  \n",
       "2        1       9            3  Returning_Visitor    False    False  \n",
       "3        2       2            4  Returning_Visitor    False    False  \n",
       "4        3       1            4  Returning_Visitor     True    False  "
      ]
     },
     "execution_count": 4,
     "metadata": {},
     "output_type": "execute_result"
    }
   ],
   "source": [
    "# load the dataset\n",
    "df = pd.read_csv('online_shoppers_intention.csv')\n",
    "df.head()"
   ]
  },
  {
   "cell_type": "code",
   "execution_count": 5,
   "id": "f25a3d02",
   "metadata": {
    "id": "461b49e9"
   },
   "outputs": [],
   "source": [
    "from sklearn.preprocessing import LabelEncoder\n",
    "def label_encoder(df, cols):\n",
    "    for col in cols:\n",
    "        le = LabelEncoder()\n",
    "        df[col] = le.fit_transform(df[col])\n",
    "    return df\n",
    "\n",
    "def onehot_encoder(data, cols):\n",
    "    for col in cols:\n",
    "        dummies = pd.get_dummies(data[col])\n",
    "        data = pd.concat([data, dummies], axis=1)\n",
    "    data = data.drop(cols, axis=1)\n",
    "    return data\n"
   ]
  },
  {
   "cell_type": "code",
   "execution_count": null,
   "id": "28a5065f",
   "metadata": {
    "id": "2ae9e034",
    "outputId": "2d635f7a-2fc0-4216-cac1-58f81859e346"
   },
   "outputs": [
    {
     "data": {
      "text/html": [
       "<div>\n",
       "<style scoped>\n",
       "    .dataframe tbody tr th:only-of-type {\n",
       "        vertical-align: middle;\n",
       "    }\n",
       "\n",
       "    .dataframe tbody tr th {\n",
       "        vertical-align: top;\n",
       "    }\n",
       "\n",
       "    .dataframe thead th {\n",
       "        text-align: right;\n",
       "    }\n",
       "</style>\n",
       "<table border=\"1\" class=\"dataframe\">\n",
       "  <thead>\n",
       "    <tr style=\"text-align: right;\">\n",
       "      <th></th>\n",
       "      <th>Administrative</th>\n",
       "      <th>Administrative_Duration</th>\n",
       "      <th>Informational</th>\n",
       "      <th>Informational_Duration</th>\n",
       "      <th>ProductRelated</th>\n",
       "      <th>ProductRelated_Duration</th>\n",
       "      <th>BounceRates</th>\n",
       "      <th>ExitRates</th>\n",
       "      <th>PageValues</th>\n",
       "      <th>SpecialDay</th>\n",
       "      <th>...</th>\n",
       "      <th>Mar</th>\n",
       "      <th>May</th>\n",
       "      <th>Nov</th>\n",
       "      <th>Oct</th>\n",
       "      <th>Sep</th>\n",
       "      <th>False</th>\n",
       "      <th>True</th>\n",
       "      <th>New_Visitor</th>\n",
       "      <th>Other</th>\n",
       "      <th>Returning_Visitor</th>\n",
       "    </tr>\n",
       "  </thead>\n",
       "  <tbody>\n",
       "    <tr>\n",
       "      <th>0</th>\n",
       "      <td>0</td>\n",
       "      <td>0.0</td>\n",
       "      <td>0</td>\n",
       "      <td>0.0</td>\n",
       "      <td>1</td>\n",
       "      <td>0.0</td>\n",
       "      <td>0.2</td>\n",
       "      <td>0.2</td>\n",
       "      <td>0.0</td>\n",
       "      <td>0.0</td>\n",
       "      <td>...</td>\n",
       "      <td>0</td>\n",
       "      <td>0</td>\n",
       "      <td>0</td>\n",
       "      <td>0</td>\n",
       "      <td>0</td>\n",
       "      <td>1</td>\n",
       "      <td>0</td>\n",
       "      <td>0</td>\n",
       "      <td>0</td>\n",
       "      <td>1</td>\n",
       "    </tr>\n",
       "    <tr>\n",
       "      <th>1</th>\n",
       "      <td>0</td>\n",
       "      <td>0.0</td>\n",
       "      <td>0</td>\n",
       "      <td>0.0</td>\n",
       "      <td>2</td>\n",
       "      <td>64.0</td>\n",
       "      <td>0.0</td>\n",
       "      <td>0.1</td>\n",
       "      <td>0.0</td>\n",
       "      <td>0.0</td>\n",
       "      <td>...</td>\n",
       "      <td>0</td>\n",
       "      <td>0</td>\n",
       "      <td>0</td>\n",
       "      <td>0</td>\n",
       "      <td>0</td>\n",
       "      <td>1</td>\n",
       "      <td>0</td>\n",
       "      <td>0</td>\n",
       "      <td>0</td>\n",
       "      <td>1</td>\n",
       "    </tr>\n",
       "    <tr>\n",
       "      <th>2</th>\n",
       "      <td>0</td>\n",
       "      <td>0.0</td>\n",
       "      <td>0</td>\n",
       "      <td>0.0</td>\n",
       "      <td>1</td>\n",
       "      <td>0.0</td>\n",
       "      <td>0.2</td>\n",
       "      <td>0.2</td>\n",
       "      <td>0.0</td>\n",
       "      <td>0.0</td>\n",
       "      <td>...</td>\n",
       "      <td>0</td>\n",
       "      <td>0</td>\n",
       "      <td>0</td>\n",
       "      <td>0</td>\n",
       "      <td>0</td>\n",
       "      <td>1</td>\n",
       "      <td>0</td>\n",
       "      <td>0</td>\n",
       "      <td>0</td>\n",
       "      <td>1</td>\n",
       "    </tr>\n",
       "  </tbody>\n",
       "</table>\n",
       "<p>3 rows × 30 columns</p>\n",
       "</div>"
      ],
      "text/plain": [
       "   Administrative  Administrative_Duration  Informational  \\\n",
       "0               0                      0.0              0   \n",
       "1               0                      0.0              0   \n",
       "2               0                      0.0              0   \n",
       "\n",
       "   Informational_Duration  ProductRelated  ProductRelated_Duration  \\\n",
       "0                     0.0               1                      0.0   \n",
       "1                     0.0               2                     64.0   \n",
       "2                     0.0               1                      0.0   \n",
       "\n",
       "   BounceRates  ExitRates  PageValues  SpecialDay  ...  Mar  May  Nov  Oct  \\\n",
       "0          0.2        0.2         0.0         0.0  ...    0    0    0    0   \n",
       "1          0.0        0.1         0.0         0.0  ...    0    0    0    0   \n",
       "2          0.2        0.2         0.0         0.0  ...    0    0    0    0   \n",
       "\n",
       "   Sep  False  True  New_Visitor  Other  Returning_Visitor  \n",
       "0    0      1     0            0      0                  1  \n",
       "1    0      1     0            0      0                  1  \n",
       "2    0      1     0            0      0                  1  \n",
       "\n",
       "[3 rows x 30 columns]"
      ]
     },
     "execution_count": 16,
     "metadata": {},
     "output_type": "execute_result"
    }
   ],
   "source": [
    "df = label_encoder(df,['Revenue'])\n",
    "df = onehot_encoder(df, cols=['Month', 'Weekend','VisitorType'])\n",
    "df.head(3)"
   ]
  },
  {
   "cell_type": "code",
   "execution_count": null,
   "id": "34070235",
   "metadata": {
    "id": "74a425d0"
   },
   "outputs": [],
   "source": [
    "X =df.drop('Revenue',axis=1)\n",
    "y = df['Revenue']"
   ]
  },
  {
   "cell_type": "code",
   "execution_count": null,
   "id": "38403eba",
   "metadata": {
    "id": "6f1af2af",
    "outputId": "065f9049-e3ae-4bc0-93cf-5a135a50334f"
   },
   "outputs": [
    {
     "name": "stdout",
     "output_type": "stream",
     "text": [
      "(9864, 29) (9864,)\n",
      "(2466, 29) (2466,)\n"
     ]
    }
   ],
   "source": [
    "from sklearn.model_selection import train_test_split\n",
    "X_train,X_test,y_train,y_test=train_test_split(X,y,test_size=.2)\n",
    "\n",
    "print(X_train.shape,y_train.shape)\n",
    "print(X_test.shape,y_test.shape)"
   ]
  },
  {
   "cell_type": "code",
   "execution_count": null,
   "id": "dbcf6488",
   "metadata": {
    "id": "d8bbf71a",
    "outputId": "5ab7a6bd-42ee-458e-ddaf-1801003d654e"
   },
   "outputs": [
    {
     "name": "stdout",
     "output_type": "stream",
     "text": [
      "Precision = 0.8264015395613542\n",
      "Recall = 0.7912741734554729\n",
      "Accuracy = 0.9083536090835361\n"
     ]
    }
   ],
   "source": [
    "### XGBoost model\n",
    "param = {\n",
    "    'eta': 0.3, \n",
    "    'max_depth': 3,  \n",
    "    'objective': 'multi:softprob',  \n",
    "    'num_class': 3} \n",
    "\n",
    "D_train = xgb.DMatrix(data=X_train, label=y_train)\n",
    "D_test = xgb.DMatrix(data=X_test, label=y_test)\n",
    "\n",
    "steps = 20  # The number of training iterations\n",
    "xgb = xgb.train(param, D_train, steps)\n",
    "\n",
    "preds = xgb.predict(D_test)\n",
    "best_preds = np.asarray([np.argmax(line) for line in preds])\n",
    "\n",
    "print(\"Precision = {}\".format(precision_score(y_test, best_preds, average='macro')))\n",
    "print(\"Recall = {}\".format(recall_score(y_test, best_preds, average='macro')))\n",
    "print(\"Accuracy = {}\".format(accuracy_score(y_test, best_preds)))"
   ]
  },
  {
   "cell_type": "code",
   "execution_count": null,
   "id": "06848d51",
   "metadata": {
    "id": "afa43c50"
   },
   "outputs": [],
   "source": [
    "from sklearn.model_selection import KFold,cross_val_score\n",
    "from sklearn.metrics import f1_score\n",
    "from sklearn.metrics import cohen_kappa_score\n",
    "from sklearn.metrics import classification_report\n",
    "\n",
    "def cross_validate_models(models, X, y, cv=5):\n",
    "    \"\"\"\n",
    "    Cross validate a list of models and return the mean and standard deviation of the scores\n",
    "    \"\"\"\n",
    "    results = []\n",
    "    names = []\n",
    "    for name, model in models:\n",
    "        kfold = KFold(n_splits=cv)\n",
    "        cv_results =cross_val_score(model, X, y, cv=kfold, scoring='accuracy')\n",
    "        results.append(cv_results)\n",
    "        names.append(name)\n",
    "        msg = \"%s: %f (%f)\" % (name, cv_results.mean(), cv_results.std())\n",
    "        print(msg)\n",
    "    return results, names"
   ]
  },
  {
   "cell_type": "code",
   "execution_count": null,
   "id": "751ab860",
   "metadata": {
    "id": "8179b6a1",
    "outputId": "66db5f58-e939-4659-991a-8f5c5bcd0a11"
   },
   "outputs": [
    {
     "name": "stdout",
     "output_type": "stream",
     "text": [
      "LR: 0.884509 (0.039076)\n",
      "CART: 0.855150 (0.050596)\n",
      "NB: 0.760503 (0.147361)\n",
      "RF: 0.900568 (0.034501)\n",
      "GBM: 0.902514 (0.035072)\n"
     ]
    },
    {
     "data": {
      "text/plain": [
       "([array([0.93227899, 0.9298459 , 0.86982968, 0.84712084, 0.84347121]),\n",
       "  array([0.90875912, 0.92214112, 0.83454988, 0.80251419, 0.80778589]),\n",
       "  array([0.90227088, 0.90673155, 0.50364964, 0.7270884 , 0.76277372]),\n",
       "  array([0.94120032, 0.94201135, 0.88767234, 0.86253041, 0.86942417]),\n",
       "  array([0.94403893, 0.94525547, 0.88686131, 0.86861314, 0.86780211])],\n",
       " ['LR', 'CART', 'NB', 'RF', 'GBM'])"
      ]
     },
     "execution_count": 21,
     "metadata": {},
     "output_type": "execute_result"
    }
   ],
   "source": [
    "models = [\n",
    "    (\"LR\", LogisticRegression(penalty=\"l1\", solver=\"liblinear\")),\n",
    "    (\"CART\", DecisionTreeClassifier()),\n",
    "    (\"NB\", GaussianNB()),\n",
    "    (\"RF\", RandomForestClassifier()),\n",
    "    (\"GBM\", GradientBoostingClassifier()),\n",
    "]\n",
    "cross_validate_models(models, X, y, cv=5)"
   ]
  },
  {
   "cell_type": "code",
   "execution_count": null,
   "id": "83ecafd8",
   "metadata": {
    "id": "83790aa3"
   },
   "outputs": [],
   "source": []
  },
  {
   "cell_type": "code",
   "execution_count": null,
   "id": "51ad80bc",
   "metadata": {
    "id": "1eff1e8b",
    "outputId": "caf2cda0-0bc8-4c17-ad04-eba6004eb70f"
   },
   "outputs": [
    {
     "data": {
      "image/png": "[encoded data removed]",
      "text/plain": [
       "<Figure size 720x720 with 2 Axes>"
      ]
     },
     "metadata": {
      "needs_background": "light"
     },
     "output_type": "display_data"
    }
   ],
   "source": [
    "import pandas as pd\n",
    "import numpy as np\n",
    "import matplotlib.pyplot as plt\n",
    "\n",
    "# Load the dataset\n",
    "data = df\n",
    "\n",
    "# Calculate the correlation matrix\n",
    "corr = data.corr()\n",
    "\n",
    "# Generate a mask for the upper triangle\n",
    "mask = np.triu(np.ones_like(corr, dtype=bool))\n",
    "\n",
    "# Plot the correlation matrix using a heatmap\n",
    "fig, ax = plt.subplots(figsize=(10,10))\n",
    "ax.set_title(\"Correlation matrix\")\n",
    "im = ax.imshow(corr, cmap='RdYlGn', interpolation='nearest')\n",
    "\n",
    "# Mask the lower triangle\n",
    "im.set_visible(False)\n",
    "im.set_array(np.ma.array(corr, mask=mask))\n",
    "im.set_visible(True)\n",
    "\n",
    "# Hide the x and y labels and ticks\n",
    "ax.set_xticks(np.arange(len(corr.columns)))\n",
    "ax.set_yticks(np.arange(len(corr.columns)))\n",
    "ax.set_xticklabels(corr.columns, rotation = 90)\n",
    "ax.set_yticklabels(corr.columns)\n",
    "plt.setp(ax.get_xticklabels(), rotation=45, ha=\"right\",\n",
    "         rotation_mode=\"anchor\")\n",
    "\n",
    "# Add a colorbar\n",
    "plt.colorbar(im)\n",
    "\n",
    "plt.show()\n"
   ]
  },
  {
   "cell_type": "markdown",
   "id": "800fd14c",
   "metadata": {
    "id": "df4cd05f"
   },
   "source": [
    "## [ DATA MODELING](https://github.com/zeglam/Online-shoppers-intention-prediction/blob/master/final.ipynb)\n"
   ]
  },
  {
   "cell_type": "markdown",
   "id": "14d56dbc",
   "metadata": {
    "id": "4ac3eb17"
   },
   "source": [
    "#### Data preproccesing"
   ]
  },
  {
   "cell_type": "code",
   "execution_count": 6,
   "id": "f9134667",
   "metadata": {
    "id": "4d7edf60"
   },
   "outputs": [],
   "source": [
    "dff = pd.concat([df,pd.get_dummies(df['Month'], prefix='Month')], axis=1).drop(['Month'],axis=1)\n",
    "dff = pd.concat([dff,pd.get_dummies(dff['VisitorType'], prefix='VisitorType')], axis=1).drop(['VisitorType'],axis=1)"
   ]
  },
  {
   "cell_type": "code",
   "execution_count": 7,
   "id": "039e89f7",
   "metadata": {
    "id": "f0c47eb0"
   },
   "outputs": [],
   "source": [
    "y = dff['Revenue']\n",
    "X = dff.drop(['Revenue'], axis=1)"
   ]
  },
  {
   "cell_type": "code",
   "execution_count": 8,
   "id": "b87b18df",
   "metadata": {
    "id": "8d64cb7d"
   },
   "outputs": [],
   "source": [
    "X_train, X_valtest, y_train, y_valtest = train_test_split(X, y, test_size=0.3, random_state=101)\n",
    "X_val, X_test, y_val, y_test = train_test_split(X_valtest, y_valtest, test_size=0.5, random_state=101)"
   ]
  },
  {
   "cell_type": "code",
   "execution_count": 9,
   "id": "f8ea7ef7",
   "metadata": {
    "id": "333a3d69"
   },
   "outputs": [],
   "source": [
    "# data_scaling\n",
    "sc_X = StandardScaler()\n",
    "\n",
    "Xsc_train = sc_X.fit_transform(X_train)\n",
    "Xsc_val = sc_X.fit_transform(X_val)\n",
    "Xsc_test = sc_X.fit_transform(X_test)"
   ]
  },
  {
   "cell_type": "markdown",
   "id": "4b95621a",
   "metadata": {
    "id": "fb9fa675"
   },
   "source": [
    "#### Model Building"
   ]
  },
  {
   "cell_type": "markdown",
   "id": "7edaf5b5",
   "metadata": {
    "id": "6179c727"
   },
   "source": [
    "**Naive Bayes**  \n",
    "We will go with a Gaussian Naive Bayes classifier, since some of our features are normally distributed, even though other features don't follow a normal distribution.  \n",
    "Naive Bayes result is less thsn desirable, one reason might be the Gaussian distribution assumption, which for sure does not fit all of the features in our dataset."
   ]
  },
  {
   "cell_type": "code",
   "execution_count": 10,
   "id": "c0f6d61c",
   "metadata": {
    "colab": {
     "base_uri": "https://localhost:8080/"
    },
    "id": "80a429f5",
    "outputId": "a2e07051-c02e-414b-975f-90dc87d69b5e"
   },
   "outputs": [
    {
     "name": "stdout",
     "output_type": "stream",
     "text": [
      "Gaussian Naive Bayes Performance:\n",
      "---------------------------------\n",
      "Accuracy        :  0.775013520822066\n",
      "F1 Score        :  0.4914425427872861\n",
      "Precision       :  0.3941176470588235\n",
      "Recall          :  0.6525974025974026\n",
      "Confusion Matrix:\n",
      "  [[1232  309]\n",
      " [ 107  201]]\n"
     ]
    }
   ],
   "source": [
    "nbm = GaussianNB()\n",
    "nbm.fit(X_train,y_train)\n",
    "nbm_pred = nbm.predict(X_val)\n",
    "\n",
    "print('Gaussian Naive Bayes Performance:')\n",
    "print('---------------------------------')\n",
    "print('Accuracy        : ', metrics.accuracy_score(y_val, nbm_pred))\n",
    "print('F1 Score        : ', metrics.f1_score(y_val, nbm_pred))\n",
    "print('Precision       : ', metrics.precision_score(y_val, nbm_pred))\n",
    "print('Recall          : ', metrics.recall_score(y_val, nbm_pred))\n",
    "print('Confusion Matrix:\\n ', confusion_matrix(y_val, nbm_pred))"
   ]
  },
  {
   "cell_type": "markdown",
   "id": "2e9b35e5",
   "metadata": {
    "id": "deee1a7d"
   },
   "source": [
    "**KNN**  \n",
    "For K-Nearest Neighbor classifier, we will be using the scaled version of our dataset.\n",
    "\n",
    "KNN is a non-parametric (no assumption for underlying data distribution) learning algorithm, the model structure determined from the dataset. This will be very helpful in dataset where many features do not follow a specific theoretical assumption.  \n",
    "\n",
    "Compared to Naive Bayes, KNN's initial model causes a considerable increase in accuracy and F1 score, with a decrease in recall. Now we will try increase its performance even more with hyper-parameter tuning via grid search."
   ]
  },
  {
   "cell_type": "code",
   "execution_count": 11,
   "id": "8c88c949",
   "metadata": {
    "colab": {
     "base_uri": "https://localhost:8080/"
    },
    "id": "8260cbf3",
    "outputId": "7e22557c-1a4c-4245-dfa1-e61b82d5cab1"
   },
   "outputs": [
    {
     "name": "stdout",
     "output_type": "stream",
     "text": [
      "Fitting 5 folds for each of 108 candidates, totalling 540 fits\n"
     ]
    },
    {
     "data": {
      "text/plain": [
       "GridSearchCV(estimator=KNeighborsClassifier(),\n",
       "             param_grid={'leaf_size': [1, 10, 20],\n",
       "                         'n_neighbors': [1, 2, 3, 4, 5, 6, 7, 8, 9],\n",
       "                         'p': [1, 2], 'weights': ['uniform', 'distance']},\n",
       "             verbose=1)"
      ]
     },
     "execution_count": 11,
     "metadata": {},
     "output_type": "execute_result"
    }
   ],
   "source": [
    "knn_param_grid = {'n_neighbors': list(range(1,10)), \n",
    "                  'leaf_size': [1,10,20], \n",
    "                  'p': [1,2],\n",
    "                  'weights': ['uniform','distance']}\n",
    "knn_grid = GridSearchCV(KNeighborsClassifier(),\n",
    "                        knn_param_grid,\n",
    "                        verbose=1)\n",
    "knn_grid.fit(Xsc_train,y_train)"
   ]
  },
  {
   "cell_type": "code",
   "execution_count": 12,
   "id": "41584336",
   "metadata": {
    "colab": {
     "base_uri": "https://localhost:8080/"
    },
    "id": "95ceeb8d",
    "outputId": "db971e5a-b350-4fc0-ffb8-2c405ee2fe3f"
   },
   "outputs": [
    {
     "data": {
      "text/plain": [
       "KNeighborsClassifier(leaf_size=1, n_neighbors=8, p=1, weights='distance')"
      ]
     },
     "execution_count": 12,
     "metadata": {},
     "output_type": "execute_result"
    }
   ],
   "source": [
    "knn_grid.best_params_\n",
    "knn_grid.best_estimator_"
   ]
  },
  {
   "cell_type": "code",
   "execution_count": 13,
   "id": "695dcffc",
   "metadata": {
    "colab": {
     "base_uri": "https://localhost:8080/"
    },
    "id": "66b2c0fb",
    "outputId": "b467d41f-d134-47ca-e345-a97238af24e6"
   },
   "outputs": [
    {
     "name": "stdout",
     "output_type": "stream",
     "text": [
      "K-Nearest Neighbor Tuned Performance:\n",
      "-------------------------------------\n",
      "Accuracy        :  0.8674959437533802\n",
      "F1 Score        :  0.44191343963553537\n",
      "Precision       :  0.7404580152671756\n",
      "Recall          :  0.31493506493506496\n",
      "Confusion Matrix:\n",
      "  [[1507   34]\n",
      " [ 211   97]]\n"
     ]
    }
   ],
   "source": [
    "knn_grid_pred = knn_grid.predict(Xsc_val)\n",
    "print('K-Nearest Neighbor Tuned Performance:')\n",
    "print('-------------------------------------')\n",
    "print('Accuracy        : ', metrics.accuracy_score(y_val, knn_grid_pred))\n",
    "print('F1 Score        : ', metrics.f1_score(y_val, knn_grid_pred))\n",
    "print('Precision       : ', metrics.precision_score(y_val, knn_grid_pred))\n",
    "print('Recall          : ', metrics.recall_score(y_val, knn_grid_pred))\n",
    "print('Confusion Matrix:\\n ', confusion_matrix(y_val, knn_grid_pred))"
   ]
  },
  {
   "cell_type": "code",
   "execution_count": null,
   "id": "2d963c10",
   "metadata": {
    "id": "b71228fb"
   },
   "outputs": [],
   "source": []
  },
  {
   "cell_type": "markdown",
   "id": "96f31fe8",
   "metadata": {
    "id": "6f7626af"
   },
   "source": [
    "**SVM**  \n",
    "For SVM classifier, we will be using the scaled version of our dataset.\n",
    "\n",
    "SVM offers high accuracy classification, and it is known for its kernel trick to handle nonlinear input spaces. The classifier separates data points using a hyperplane with the largest amount of margin. SVM finds an optimal hyperplane which helps in classifying new data points.  \n",
    "\n",
    "Compared to KNN, SVM's initial model resulted in a considerable increase in all performance metrics. Now we will try increase its performance even more with hyper-parameter tuning via grid search."
   ]
  },
  {
   "cell_type": "code",
   "execution_count": 14,
   "id": "c16f393b",
   "metadata": {
    "colab": {
     "base_uri": "https://localhost:8080/"
    },
    "id": "f0309b7b",
    "outputId": "4a38e98e-da5a-4751-da26-ad50550489f3"
   },
   "outputs": [
    {
     "name": "stdout",
     "output_type": "stream",
     "text": [
      "SVM Initial Performance:\n",
      "------------------------\n",
      "Accuracy        :  0.8875067604110329\n",
      "F1 Score        :  0.5856573705179283\n",
      "Precision       :  0.7577319587628866\n",
      "Recall          :  0.4772727272727273\n",
      "Confusion Matrix:\n",
      "  [[1494   47]\n",
      " [ 161  147]]\n"
     ]
    }
   ],
   "source": [
    "svm = SVC(C=1.0,kernel='rbf',degree=3,gamma='auto') #default values\n",
    "svm.fit(Xsc_train,y_train)\n",
    "svm_pred = svm.predict(Xsc_val)\n",
    "\n",
    "print('SVM Initial Performance:')\n",
    "print('------------------------')\n",
    "print('Accuracy        : ', metrics.accuracy_score(y_val, svm_pred))\n",
    "print('F1 Score        : ', metrics.f1_score(y_val, svm_pred))\n",
    "print('Precision       : ', metrics.precision_score(y_val, svm_pred))\n",
    "print('Recall          : ', metrics.recall_score(y_val, svm_pred))\n",
    "print('Confusion Matrix:\\n ', confusion_matrix(y_val, svm_pred))"
   ]
  },
  {
   "cell_type": "code",
   "execution_count": 15,
   "id": "6fb66b97",
   "metadata": {
    "colab": {
     "base_uri": "https://localhost:8080/"
    },
    "id": "617b7185",
    "outputId": "153b82e7-33a4-45c4-d1d3-c9b183905fe9"
   },
   "outputs": [
    {
     "name": "stdout",
     "output_type": "stream",
     "text": [
      "Fitting 5 folds for each of 36 candidates, totalling 180 fits\n",
      "SVM Tuned Performance:\n",
      "----------------------\n",
      "Accuracy        :  0.8891292590589508\n",
      "F1 Score        :  0.6003898635477583\n",
      "Precision       :  0.751219512195122\n",
      "Recall          :  0.5\n",
      "Confusion Matrix:\n",
      "  [[1490   51]\n",
      " [ 154  154]]\n"
     ]
    }
   ],
   "source": [
    "svm_param_grid = {'C': [0.1, 1, 10, 100], \n",
    "              'gamma': [0.1,0.01,0.001], \n",
    "              'kernel': ['poly', 'rbf', 'sigmoid']} \n",
    "svm_grid = GridSearchCV(SVC(),\n",
    "                        svm_param_grid,\n",
    "                        refit=True,\n",
    "                        verbose=1)\n",
    "svm_grid.fit(Xsc_train,y_train)\n",
    "\n",
    "svm_grid_pred = svm_grid.predict(Xsc_val)\n",
    "\n",
    "print('SVM Tuned Performance:')\n",
    "print('----------------------')\n",
    "print('Accuracy        : ', metrics.accuracy_score(y_val, svm_grid_pred))\n",
    "print('F1 Score        : ', metrics.f1_score(y_val, svm_grid_pred))\n",
    "print('Precision       : ', metrics.precision_score(y_val, svm_grid_pred))\n",
    "print('Recall          : ', metrics.recall_score(y_val, svm_grid_pred))\n",
    "print('Confusion Matrix:\\n ', confusion_matrix(y_val, svm_grid_pred))"
   ]
  },
  {
   "cell_type": "markdown",
   "id": "eedc7311",
   "metadata": {
    "id": "d659043c"
   },
   "source": [
    "**Random Forest**  \n",
    "A random forest is a meta estimator that fits a number of decision tree classifiers on various sub-samples of the dataset and uses averaging to improve the predictive accuracy and control over-fitting. The sub-sample size is controlled with the max_samples parameter if bootstrap=True (default), otherwise the whole dataset is used to build each tree."
   ]
  },
  {
   "cell_type": "code",
   "execution_count": 16,
   "id": "a2a2e702",
   "metadata": {
    "colab": {
     "base_uri": "https://localhost:8080/"
    },
    "id": "21d14cba",
    "outputId": "12bedf0a-9119-4787-b62d-027436af8462"
   },
   "outputs": [
    {
     "name": "stdout",
     "output_type": "stream",
     "text": [
      "Random Forest initial Performance:\n",
      "----------------------------------\n",
      "Accuracy        :  0.8988642509464575\n",
      "F1 Score        :  0.6581352833638026\n",
      "Precision       :  0.7531380753138075\n",
      "Recall          :  0.5844155844155844\n",
      "Confusion Matrix:\n",
      "  [[1482   59]\n",
      " [ 128  180]]\n"
     ]
    }
   ],
   "source": [
    "rfm = RandomForestClassifier(n_estimators=100,\n",
    "    criterion='gini',\n",
    "    max_depth=None,\n",
    "    min_samples_split=2,\n",
    "    min_samples_leaf=1,\n",
    "    max_features='auto',\n",
    "    bootstrap=True) #default parameters\n",
    "rfm.fit(X_train,y_train)\n",
    "rfm_pred = rfm.predict(X_val)\n",
    "\n",
    "print('Random Forest initial Performance:')\n",
    "print('----------------------------------')\n",
    "print('Accuracy        : ', metrics.accuracy_score(y_val, rfm_pred))\n",
    "print('F1 Score        : ', metrics.f1_score(y_val, rfm_pred))\n",
    "print('Precision       : ', metrics.precision_score(y_val, rfm_pred))\n",
    "print('Recall          : ', metrics.recall_score(y_val, rfm_pred))\n",
    "print('Confusion Matrix:\\n ', confusion_matrix(y_val, rfm_pred))"
   ]
  },
  {
   "cell_type": "markdown",
   "id": "445a6d02",
   "metadata": {
    "id": "77c2a22d"
   },
   "source": [
    "The random forest classifier (with default parameter values) give us higher accuracy and F1 score than all other classifiers tested so far. Next, we will try improving its performance (especially the recall) by tuning its hyper-parameters."
   ]
  },
  {
   "cell_type": "code",
   "execution_count": 21,
   "id": "490c95cc",
   "metadata": {
    "id": "fa9fa58a"
   },
   "outputs": [],
   "source": [
    "rfm_param_grid = {'n_estimators': [10,80,200,800,2000,5000], \n",
    "                  'max_features': ['sqrt', 'log2'],\n",
    "                  'max_depth': [10,20,30],\n",
    "                  'min_samples_split': [2,5,10],\n",
    "                  'min_samples_leaf': [1,2,7,15]} \n",
    "\n",
    "rfm_grid = RandomizedSearchCV(RandomForestClassifier(),\n",
    "                        rfm_param_grid,\n",
    "                        n_iter=100,\n",
    "                        n_jobs= -1)"
   ]
  },
  {
   "cell_type": "code",
   "execution_count": null,
   "id": "5759b283",
   "metadata": {
    "colab": {
     "base_uri": "https://localhost:8080/",
     "height": 329
    },
    "id": "cb6e6837",
    "outputId": "d25874b1-3323-46d1-9f86-2593ac69aa5b"
   },
   "outputs": [],
   "source": [
    "rfm_grid.fit(X_train, y_train)\n",
    "rfm_grid.best_params_"
   ]
  },
  {
   "cell_type": "code",
   "execution_count": 24,
   "id": "44b9ddd4",
   "metadata": {
    "colab": {
     "base_uri": "https://localhost:8080/"
    },
    "id": "b1b339e0",
    "outputId": "1b76d66b-74df-442c-a30a-218be0c08920"
   },
   "outputs": [
    {
     "name": "stdout",
     "output_type": "stream",
     "text": [
      "Random Forest Tuned Performance:\n",
      "--------------------------------\n",
      "Accuracy        :  0.9010275824770146\n",
      "F1 Score        :  0.6579439252336449\n",
      "Precision       :  0.775330396475771\n",
      "Recall          :  0.5714285714285714\n",
      "Confusion Matrix:\n",
      "  [[1490   51]\n",
      " [ 132  176]]\n"
     ]
    }
   ],
   "source": [
    "rfm_grid = RandomForestClassifier(n_estimators=5000,\n",
    "    criterion='gini',\n",
    "    max_depth=20,\n",
    "    min_samples_split=2,\n",
    "    min_samples_leaf=7,\n",
    "    max_features='sqrt',\n",
    "    bootstrap=True) #default parameters\n",
    "rfm_grid.fit(X_train,y_train)\n",
    "rfm_grid_pred = rfm_grid.predict(X_val)\n",
    "\n",
    "print('Random Forest Tuned Performance:')\n",
    "print('--------------------------------')\n",
    "print('Accuracy        : ', metrics.accuracy_score(y_val, rfm_grid_pred))\n",
    "print('F1 Score        : ', metrics.f1_score(y_val, rfm_grid_pred))\n",
    "print('Precision       : ', metrics.precision_score(y_val, rfm_grid_pred))\n",
    "print('Recall          : ', metrics.recall_score(y_val, rfm_grid_pred))\n",
    "print('Confusion Matrix:\\n ', confusion_matrix(y_val, rfm_grid_pred))"
   ]
  },
  {
   "cell_type": "markdown",
   "id": "bc38bb28",
   "metadata": {
    "id": "3250516f"
   },
   "source": [
    "The tuned Random Forest classifier has given us the best accuracy, precision, recall, and F1 score so far."
   ]
  },
  {
   "cell_type": "markdown",
   "id": "1d489984",
   "metadata": {
    "id": "9f9e2af5"
   },
   "source": [
    "**Gradient Boost**  \n",
    "Gradient Boosted Regression Trees is basically a generalization of boosting to arbitrary differentiable loss functions. It produces a prediction model in the form of an ensemble of weak prediction models. Their main advantage lies in the fact that they naturally handle the mixed type dat"
   ]
  },
  {
   "cell_type": "code",
   "execution_count": 25,
   "id": "ff4c8415",
   "metadata": {
    "colab": {
     "base_uri": "https://localhost:8080/"
    },
    "id": "15f793b9",
    "outputId": "4ab62996-9681-49d2-a5b9-5ca1489634aa"
   },
   "outputs": [
    {
     "name": "stdout",
     "output_type": "stream",
     "text": [
      "Gradient Boost initial Performance:\n",
      "-----------------------------------\n",
      "Accuracy        :  0.9053542455381287\n",
      "F1 Score        :  0.6891651865008881\n",
      "Precision       :  0.7607843137254902\n",
      "Recall          :  0.6298701298701299\n",
      "Confusion Matrix:\n",
      "  [[1480   61]\n",
      " [ 114  194]]\n"
     ]
    }
   ],
   "source": [
    "gbm = GradientBoostingClassifier(loss='deviance',\n",
    "    learning_rate=0.1,\n",
    "    n_estimators=100,\n",
    "    subsample=1.0,\n",
    "    criterion='friedman_mse',\n",
    "    min_samples_split=2,\n",
    "    min_samples_leaf=1,\n",
    "    max_depth=3,\n",
    "    max_features=None) #default parameters\n",
    "gbm.fit(X_train,y_train)\n",
    "gbm_pred = gbm.predict(X_val)\n",
    "\n",
    "print('Gradient Boost initial Performance:')\n",
    "print('-----------------------------------')\n",
    "print('Accuracy        : ', metrics.accuracy_score(y_val, gbm_pred))\n",
    "print('F1 Score        : ', metrics.f1_score(y_val, gbm_pred))\n",
    "print('Precision       : ', metrics.precision_score(y_val, gbm_pred))\n",
    "print('Recall          : ', metrics.recall_score(y_val, gbm_pred))\n",
    "print('Confusion Matrix:\\n ', confusion_matrix(y_val, gbm_pred))"
   ]
  },
  {
   "cell_type": "markdown",
   "id": "894e2f11",
   "metadata": {
    "id": "5411e370"
   },
   "source": [
    "The default classification performance of gradient boosting is better than that of random forest. Next, we will try to improve its performance even more by tuning its hyper-parameters."
   ]
  },
  {
   "cell_type": "code",
   "execution_count": null,
   "id": "8fc60d79",
   "metadata": {
    "id": "0c8de1c6"
   },
   "outputs": [],
   "source": [
    "gbm_param_grid = {'n_estimators': [10,80,200,800,2000,5000], \n",
    "                  'max_features': ['sqrt', 'log2'],\n",
    "                  'max_depth': [10,20,30,40,50,100],\n",
    "                  'min_samples_split': [2,5,10,20],\n",
    "                  'min_samples_leaf': [1,2,7,15],\n",
    "                  'loss': ['deviance', 'exponential'],\n",
    "                  'learning_rate':[0.01,0.1,0.5],\n",
    "                  'subsample':[0.7, 0.8,0.9, 1]} \n",
    "\n",
    "gbm_grid = RandomizedSearchCV(GradientBoostingClassifier(),\n",
    "                        gbm_param_grid,\n",
    "                        n_iter=100,\n",
    "                        n_jobs= -1)"
   ]
  },
  {
   "cell_type": "code",
   "execution_count": null,
   "id": "67183f63",
   "metadata": {
    "id": "e4243a23"
   },
   "outputs": [],
   "source": [
    "gbm_grid.fit(X_train, y_train)\n",
    "gbm_grid.best_params_"
   ]
  },
  {
   "cell_type": "code",
   "execution_count": 26,
   "id": "3f4292a5",
   "metadata": {
    "colab": {
     "base_uri": "https://localhost:8080/"
    },
    "id": "57ee87cd",
    "outputId": "daa235db-331b-4a7b-a60f-297f5508888b"
   },
   "outputs": [
    {
     "name": "stdout",
     "output_type": "stream",
     "text": [
      "Gradient Boost Tuned Performance:\n",
      "---------------------------------\n",
      "Accuracy        :  0.8972417522985398\n",
      "F1 Score        :  0.6441947565543071\n",
      "Precision       :  0.7610619469026548\n",
      "Recall          :  0.5584415584415584\n",
      "Confusion Matrix:\n",
      "  [[1487   54]\n",
      " [ 136  172]]\n"
     ]
    }
   ],
   "source": [
    "gbm_grid = GradientBoostingClassifier(loss='exponential',\n",
    "    learning_rate=0.1,\n",
    "    n_estimators=5000,\n",
    "    subsample=0.7,\n",
    "    criterion='friedman_mse',\n",
    "    min_samples_split=2,\n",
    "    min_samples_leaf=1,\n",
    "    max_depth=40,\n",
    "    max_features='log2') #tuned parameters\n",
    "gbm_grid.fit(X_train,y_train)\n",
    "gbm_grid_pred = gbm_grid.predict(X_val)\n",
    "\n",
    "print('Gradient Boost Tuned Performance:')\n",
    "print('---------------------------------')\n",
    "print('Accuracy        : ', metrics.accuracy_score(y_val, gbm_grid_pred))\n",
    "print('F1 Score        : ', metrics.f1_score(y_val, gbm_grid_pred))\n",
    "print('Precision       : ', metrics.precision_score(y_val, gbm_grid_pred))\n",
    "print('Recall          : ', metrics.recall_score(y_val, gbm_grid_pred))\n",
    "print('Confusion Matrix:\\n ', confusion_matrix(y_val, gbm_grid_pred))"
   ]
  },
  {
   "cell_type": "markdown",
   "id": "37707544",
   "metadata": {
    "id": "99c259a2"
   },
   "source": [
    "The performance of Gradient Boost with the default parameter values is actually slightly better than that of the tuned version."
   ]
  },
  {
   "cell_type": "markdown",
   "id": "14667c6b",
   "metadata": {
    "id": "1536b8a1"
   },
   "source": [
    "**AdaBoost**\n",
    "\n",
    "It looks like AdaBoost has a lower performance than Gradient Boost; We will try to improve it by tuning its parameters."
   ]
  },
  {
   "cell_type": "code",
   "execution_count": null,
   "id": "070380e8",
   "metadata": {
    "id": "d843c695"
   },
   "outputs": [],
   "source": [
    "abm = AdaBoostClassifier(base_estimator=None,\n",
    "    n_estimators=50,\n",
    "    learning_rate=1.0,\n",
    "    algorithm='SAMME.R',\n",
    "    random_state=None) #default parameters\n",
    "abm.fit(X_train,y_train)\n",
    "abm_pred = abm.predict(X_val)\n",
    "\n",
    "print('AdaBoost initial Performance:')\n",
    "print('-----------------------------')\n",
    "print('Accuracy        : ', metrics.accuracy_score(y_val, abm_pred))\n",
    "print('F1 Score        : ', metrics.f1_score(y_val, abm_pred))\n",
    "print('Precision       : ', metrics.precision_score(y_val, abm_pred))\n",
    "print('Recall          : ', metrics.recall_score(y_val, abm_pred))\n",
    "print('Confusion Matrix:\\n ', confusion_matrix(y_val, abm_pred))"
   ]
  },
  {
   "cell_type": "code",
   "execution_count": null,
   "id": "fb8f4c75",
   "metadata": {
    "id": "484d8059"
   },
   "outputs": [],
   "source": [
    "abm_param_grid = {'n_estimators': [10,80,200,800,2000,5000], \n",
    "                  'learning_rate':[0.01,0.1,0.5,1]} \n",
    "\n",
    "abm_grid = RandomizedSearchCV(AdaBoostClassifier(),\n",
    "                        abm_param_grid)\n",
    "\n",
    "abm_grid.fit(X_train, y_train)\n",
    "abm_grid.best_params_"
   ]
  },
  {
   "cell_type": "code",
   "execution_count": 27,
   "id": "5036fec1",
   "metadata": {
    "colab": {
     "base_uri": "https://localhost:8080/"
    },
    "id": "23898fd1",
    "outputId": "8298661e-6473-4eab-c24d-e6a9ea458e3b"
   },
   "outputs": [
    {
     "name": "stdout",
     "output_type": "stream",
     "text": [
      "AdaBoost Tuned Performance:\n",
      "---------------------------\n",
      "Accuracy        :  0.8885884261763115\n",
      "F1 Score        :  0.624087591240876\n",
      "Precision       :  0.7125\n",
      "Recall          :  0.5551948051948052\n",
      "Confusion Matrix:\n",
      "  [[1472   69]\n",
      " [ 137  171]]\n"
     ]
    }
   ],
   "source": [
    "abm_grid = AdaBoostClassifier(base_estimator=None,\n",
    "    n_estimators=80,\n",
    "    learning_rate=0.5,\n",
    "    algorithm='SAMME.R',\n",
    "    random_state=None) #tuned Parameters\n",
    "abm_grid.fit(X_train,y_train)\n",
    "abm_grid_pred = abm_grid.predict(X_val)\n",
    "\n",
    "print('AdaBoost Tuned Performance:')\n",
    "print('---------------------------')\n",
    "print('Accuracy        : ', metrics.accuracy_score(y_val, abm_grid_pred))\n",
    "print('F1 Score        : ', metrics.f1_score(y_val, abm_grid_pred))\n",
    "print('Precision       : ', metrics.precision_score(y_val, abm_grid_pred))\n",
    "print('Recall          : ', metrics.recall_score(y_val, abm_grid_pred))\n",
    "print('Confusion Matrix:\\n ', confusion_matrix(y_val, abm_grid_pred))"
   ]
  },
  {
   "cell_type": "markdown",
   "id": "92f9aa98",
   "metadata": {
    "id": "f2a363ab"
   },
   "source": [
    "Tuned AdaBoos classifier has an increased performance compared to the one run with default parameter values; Yet, it is not as high as Gradient Boost's."
   ]
  },
  {
   "cell_type": "code",
   "execution_count": null,
   "id": "58451ccc",
   "metadata": {
    "id": "f1ae7350"
   },
   "outputs": [],
   "source": []
  },
  {
   "cell_type": "markdown",
   "id": "4f984b3f",
   "metadata": {
    "id": "5fb83759"
   },
   "source": [
    "#### ROC Curves"
   ]
  },
  {
   "cell_type": "code",
   "execution_count": 31,
   "id": "2eecf179",
   "metadata": {
    "colab": {
     "base_uri": "https://localhost:8080/",
     "height": 297
    },
    "id": "9325942e",
    "outputId": "81d9db54-6531-49c1-c5f6-0de54ba809c6"
   },
   "outputs": [
    {
     "data": {
      "image/png": "[encoded data removed]",
      "text/plain": [
       "<Figure size 576x288 with 1 Axes>"
      ]
     },
     "metadata": {
      "needs_background": "light"
     },
     "output_type": "display_data"
    }
   ],
   "source": [
    "fpr_nb, tpr_nb, threshold_nb = metrics.roc_curve(y_val, nbm_pred)\n",
    "roc_auc_nb = metrics.auc(fpr_nb, tpr_nb)\n",
    "fpr_knn, tpr_knn, threshold_knn = metrics.roc_curve(y_val, knn_grid_pred)\n",
    "roc_auc_knn = metrics.auc(fpr_knn, tpr_knn)\n",
    "fpr_svm, tpr_svm, threshold_svm = metrics.roc_curve(y_val, svm_pred)\n",
    "roc_auc_svm = metrics.auc(fpr_svm, tpr_svm)\n",
    "\n",
    "\n",
    "fpr_rfm, tpr_rfm, threshold_rfm = metrics.roc_curve(y_val, rfm_grid_pred)\n",
    "roc_auc_rfm = metrics.auc(fpr_rfm, tpr_rfm)\n",
    "fpr_gbm, tpr_gbm, threshold_gbm = metrics.roc_curve(y_val, gbm_pred)\n",
    "roc_auc_gbm = metrics.auc(fpr_gbm, tpr_gbm)\n",
    "fpr_abm, tpr_abm, threshold_abm = metrics.roc_curve(y_val, abm_grid_pred)\n",
    "roc_auc_abm = metrics.auc(fpr_abm, tpr_abm)\n",
    "\n",
    "fig = plt.figure(figsize=(8, 4))\n",
    "plt.title('Receiver Operating Characteristic')\n",
    "plt.plot(fpr_nb, tpr_nb, 'b', label = 'AUC NB = %0.2f' % roc_auc_nb)\n",
    "plt.plot(fpr_knn, tpr_knn, 'y', label = 'AUC KNN = %0.2f' % roc_auc_knn)\n",
    "plt.plot(fpr_svm, tpr_svm, 'r', label = 'AUC SVM = %0.2f' % roc_auc_svm)\n",
    "plt.plot(fpr_rfm, tpr_rfm, 'k', label = 'AUC RF = %0.2f' % roc_auc_rfm)\n",
    "plt.plot(fpr_gbm, tpr_gbm, 'c', label = 'AUC GB = %0.2f' % roc_auc_gbm)\n",
    "plt.plot(fpr_abm, tpr_abm, 'm', label = 'AUC AB = %0.2f' % roc_auc_abm)\n",
    "\n",
    "plt.legend(loc = 'lower right')\n",
    "plt.plot([0, 1], [0, 1],'w--')\n",
    "plt.xlim([0, 1])\n",
    "plt.ylim([0, 1])\n",
    "plt.ylabel('True Positive Rate')\n",
    "plt.xlabel('False Positive Rate')\n",
    "plt.tight_layout()\n",
    "plt.show()"
   ]
  },
  {
   "cell_type": "markdown",
   "id": "8c97ce2d",
   "metadata": {
    "id": "be6b5a7f"
   },
   "source": [
    "It is clear from all the calculated classification metrics shown above that Gradient Boosting classifier is the one with the highest performance, and thus, it is the one we will continue to choose."
   ]
  },
  {
   "cell_type": "code",
   "execution_count": 32,
   "id": "57c1e2f2",
   "metadata": {
    "colab": {
     "base_uri": "https://localhost:8080/"
    },
    "id": "4c2a8993",
    "outputId": "c72214b1-2559-4edf-9580-edde712c7692"
   },
   "outputs": [
    {
     "name": "stdout",
     "output_type": "stream",
     "text": [
      "Gradient Boost Performance test :\n",
      "---------------------------------\n",
      "Accuracy        :  0.9069767441860465\n",
      "F1 Score        :  0.6950354609929078\n",
      "Precision       :  0.765625\n",
      "Recall          :  0.6363636363636364\n",
      "Confusion Matrix:\n",
      "  [[1481   60]\n",
      " [ 112  196]]\n"
     ]
    }
   ],
   "source": [
    "gbm2 = GradientBoostingClassifier(loss='deviance',\n",
    "    learning_rate=0.1,\n",
    "    n_estimators=131,\n",
    "    subsample=1.0,\n",
    "    criterion='friedman_mse',\n",
    "    min_samples_split=2,\n",
    "    min_samples_leaf=1,\n",
    "    max_depth=3,\n",
    "    max_features=None) #default parameters\n",
    "gbm2.fit(X_train,y_train)\n",
    "gbm2_pred = gbm2.predict(X_val)\n",
    "\n",
    "print('Gradient Boost Performance test :')\n",
    "print('---------------------------------')\n",
    "print('Accuracy        : ', metrics.accuracy_score(y_val, gbm2_pred))\n",
    "print('F1 Score        : ', metrics.f1_score(y_val, gbm2_pred))\n",
    "print('Precision       : ', metrics.precision_score(y_val, gbm2_pred))\n",
    "print('Recall          : ', metrics.recall_score(y_val, gbm2_pred))\n",
    "print('Confusion Matrix:\\n ', confusion_matrix(y_val, gbm2_pred))"
   ]
  },
  {
   "cell_type": "code",
   "execution_count": 33,
   "id": "35ac66b2",
   "metadata": {
    "colab": {
     "base_uri": "https://localhost:8080/",
     "height": 416
    },
    "id": "6b02c6e5",
    "outputId": "0bfaa718-a598-4854-f3e9-0692e7736d2b"
   },
   "outputs": [
    {
     "data": {
      "image/png": "[encoded data removed]",
      "text/plain": [
       "<Figure size 864x288 with 1 Axes>"
      ]
     },
     "metadata": {
      "needs_background": "light"
     },
     "output_type": "display_data"
    }
   ],
   "source": [
    "feat_imp = pd.Series(gbm2.feature_importances_, list(X_train)).sort_values(ascending=False)\n",
    "fig = plt.figure(figsize=(12, 4))\n",
    "feat_imp.plot(kind='bar', title='Importance of Features')\n",
    "plt.ylabel('Feature Importance Score')\n",
    "plt.grid()\n",
    "plt.show()"
   ]
  },
  {
   "cell_type": "markdown",
   "id": "c4605dfd",
   "metadata": {
    "id": "1b0c8be1"
   },
   "source": [
    "As expected, PageValues is the most important feature in our dataset, sinc eit is the feature with the highest level of corrolation with our labels (Revenue). In general, this feature importance graph agrees with our corrlation analysis of the dataset."
   ]
  },
  {
   "cell_type": "markdown",
   "id": "26eeff88",
   "metadata": {
    "id": "285fe201"
   },
   "source": [
    "#### Measure on Test set"
   ]
  },
  {
   "cell_type": "code",
   "execution_count": 34,
   "id": "1d4ef0db",
   "metadata": {
    "colab": {
     "base_uri": "https://localhost:8080/"
    },
    "id": "5f563497",
    "outputId": "59794243-203d-49dd-b150-32d33450c288"
   },
   "outputs": [
    {
     "name": "stdout",
     "output_type": "stream",
     "text": [
      "Gradient Boost: Final  ClassificationPerformance test :\n",
      "-------------------------------------------------------\n",
      "Accuracy        :  0.9086486486486487\n",
      "F1 Score        :  0.6572008113590264\n",
      "Precision       :  0.7012987012987013\n",
      "Recall          :  0.6183206106870229\n",
      "Confusion Matrix:\n",
      "  [[1519   69]\n",
      " [ 100  162]]\n",
      "              precision    recall  f1-score   support\n",
      "\n",
      "       Rev=0       0.94      0.96      0.95      1588\n",
      "       Rev=1       0.70      0.62      0.66       262\n",
      "\n",
      "    accuracy                           0.91      1850\n",
      "   macro avg       0.82      0.79      0.80      1850\n",
      "weighted avg       0.90      0.91      0.91      1850\n",
      "\n"
     ]
    }
   ],
   "source": [
    "gb = GradientBoostingClassifier(loss='deviance',\n",
    "    learning_rate=0.1,\n",
    "    n_estimators=131,\n",
    "    subsample=1.0,\n",
    "    criterion='friedman_mse',\n",
    "    min_samples_split=2,\n",
    "    min_samples_leaf=1,\n",
    "    max_depth=3,\n",
    "    max_features=None) #final parameters\n",
    "gb.fit(X_train,y_train)\n",
    "gb_pred = gb.predict(X_test)\n",
    "\n",
    "print('Gradient Boost: Final  ClassificationPerformance test :')\n",
    "print('-------------------------------------------------------')\n",
    "print('Accuracy        : ', metrics.accuracy_score(y_test, gb_pred))\n",
    "print('F1 Score        : ', metrics.f1_score(y_test, gb_pred))\n",
    "print('Precision       : ', metrics.precision_score(y_test, gb_pred))\n",
    "print('Recall          : ', metrics.recall_score(y_test, gb_pred))\n",
    "print('Confusion Matrix:\\n ', confusion_matrix(y_test, gb_pred))\n",
    "print(classification_report(y_test, gb_pred, target_names=['Rev=0', 'Rev=1']))"
   ]
  },
  {
   "cell_type": "code",
   "execution_count": null,
   "id": "104edcc8",
   "metadata": {
    "id": "ea593b0b"
   },
   "outputs": [],
   "source": []
  }
 ],
 "metadata": {
  "colab": {
   "provenance": []
  },
  "kernelspec": {
   "display_name": "Python 3 (ipykernel)",
   "language": "python",
   "name": "python3"
  },
  "language_info": {
   "codemirror_mode": {
    "name": "ipython",
    "version": 3
   },
   "file_extension": ".py",
   "mimetype": "text/x-python",
   "name": "python",
   "nbconvert_exporter": "python",
   "pygments_lexer": "ipython3",
   "version": "3.10.14"
  }
 },
 "nbformat": 4,
 "nbformat_minor": 5
}
